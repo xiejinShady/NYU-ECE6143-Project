{
 "cells": [
  {
   "cell_type": "markdown",
   "metadata": {},
   "source": [
    "# AUTO-ENCODER\n",
    "\n"
   ]
  },
  {
   "cell_type": "markdown",
   "metadata": {},
   "source": [
    "## ENCODER DECODER\n",
    "\n"
   ]
  },
  {
   "cell_type": "code",
   "execution_count": 90,
   "metadata": {},
   "outputs": [],
   "source": [
    "import torch\n",
    "import torch.nn as nn\n",
    "import torch.nn.functional as F\n",
    "import tensorflow as tf\n",
    "import random\n",
    "import sys\n",
    "import os\n",
    "from optparse import OptionParser\n",
    "import numpy as np\n",
    "from torch import optim\n",
    "from PIL import Image\n",
    "from torch.autograd import Function, Variable\n",
    "import matplotlib.pyplot as plt\n",
    "from torchvision import transforms\n",
    "from torch.utils.data import Dataset\n",
    "import cv2\n",
    "import glob\n",
    "import pickle\n",
    "from tqdm import tqdm\n",
    "%matplotlib inline"
   ]
  },
  {
   "cell_type": "markdown",
   "metadata": {},
   "source": [
    "### [ TODO 1 ] First define following layers to be used later\n",
    "- **Conv2d + BatchNorm2d + ReLu ** as **single conv2d layer** ,\n",
    "- **Maxpool2d + single conv2d layer ** as **down layer**,\n",
    "- **Upsample + single conv2d layer ** as **up layer** ,\n",
    "-  **Conv2d ** as **outconv layer** \n",
    "\n",
    "You can check out the documentation in this link to understand how to use the methods called in the provided template:\n",
    "\n",
    " https://pytorch.org/docs/stable/nn.html\n",
    " \n",
    "  ![single_conv](single_conv_layer.png)\n",
    "  ![down_layer](down_layer.png)\n",
    "  ![up_layer](Up_layer.png)\n",
    "  ![outconv_layer](outconv_layer.png)\n",
    "  "
   ]
  },
  {
   "cell_type": "code",
   "execution_count": 91,
   "metadata": {},
   "outputs": [],
   "source": [
    "################################################ [TODO] ###################################################\n",
    "# DEFINE SINGLE_CONV CLASS\n",
    "class single_conv(nn.Module):\n",
    "    '''(conv => BN => ReLU) '''\n",
    "    def __init__(self, in_ch, out_ch):\n",
    "        super(single_conv, self).__init__()\n",
    "        self.conv = nn.Sequential(\n",
    "            nn.Conv2d(in_ch,out_ch,3, padding=(1,1)), #(channel in, channel out, filter)\n",
    "            nn.BatchNorm2d(out_ch), # Channels in\n",
    "            nn.Tanh(), #Channel in\n",
    "        )\n",
    "\n",
    "    def forward(self, x):\n",
    "        x = self.conv(x)\n",
    "        return x\n",
    "\n",
    "\n",
    "\n",
    "################################################ [TODO] ###################################################\n",
    "# DEFINE DOWN CLASS\n",
    "class down(nn.Module):\n",
    "    def __init__(self, in_ch, out_ch):\n",
    "        super(down, self).__init__()\n",
    "        self.down =  nn.MaxPool2d( (2,2))# use nn.MaxPool2d( )\n",
    "        self.conv = single_conv(in_ch,out_ch) # use previously defined single_cov\n",
    "    def forward(self, x):\n",
    "        x = self.conv(x)\n",
    "        x = self.down(x)\n",
    "        return x\n",
    "    \n",
    "\n",
    "################################################ [TODO] ###################################################\n",
    "# DEFINE UP CLASS\n",
    "# Note that this class will not only upsample x1, but also concatenate up-sampled x1 with x2 to generate the final output\n",
    "\n",
    "class up(nn.Module):\n",
    "    def __init__(self, in_ch, out_ch):\n",
    "        super(up, self).__init__()       \n",
    "        self.up = nn.Upsample(2,'bilinear') # use nn.Upsample( )\n",
    "        self.conv = single_conv(in_ch,out_ch) # use previously defined single_cov\n",
    "\n",
    "    def forward(self, x):\n",
    "        # This part is tricky, so we provide it for you\n",
    "        # First we upsample x1\n",
    "        x = nn.functional.interpolate(x, size=None, scale_factor=2, mode='bilinear')\n",
    "        x = self.conv(x)\n",
    "        return x\n",
    "\n",
    "################################################ [TODO] ###################################################\n",
    "# DEFINE OUTCONV CLASS\n",
    "class quat(nn.Module):\n",
    "    def __init__(self, in_ch, out_ch):\n",
    "        super(quat, self).__init__()\n",
    "        self.down = down(in_ch,out_ch)\n",
    "    def forward(self, x):\n",
    "        x = self.down(x)\n",
    "        #Quatization\n",
    "        T = 1\n",
    "        x = (x > T).float() * 1\n",
    "        return x"
   ]
  },
  {
   "cell_type": "code",
   "execution_count": 92,
   "metadata": {},
   "outputs": [],
   "source": [
    "################################################ [TODO] ###################################################\n",
    "# Build your network with predefined classes: single_conv, up, down, outconv\n",
    "# The number of input and output channels should follow the U-Net Structure shown above.\n",
    "import torch.nn.functional as F\n",
    "class UNet(nn.Module):\n",
    "    def __init__(self, n_channels, n_classes):\n",
    "        super(UNet, self).__init__()\n",
    "        self.inc = single_conv(n_channels, 4) # conv2d +  batchnorm + Tanh \n",
    "        self.down1 = down(4, 6)              # maxpool2d + conv2d + batchnorm + Tanh\n",
    "        self.down2 = down(6, 8)              # maxpool2d + conv2d + batchnorm + tanh\n",
    "        self.quat = nn.MaxPool2d( (2,2))     # use nn.MaxPool2d( )\n",
    "        self.up1 = up(8,6)                   # upsample + pad + conv2d + batchnorm + tanh\n",
    "        self.up2 = up(6,4)                   # upsample + pad + conv2d + batchnorm + tanh\n",
    "        self.up3 = up(4,3)                   # upsample + pad + conv2d + batchnorm + tanh\n",
    "\n",
    "    def forward(self, x):\n",
    "        #ENCODE\n",
    "        x = self.inc(x) #16x16x3e\n",
    "        x = self.down1(x) #8x8x4\n",
    "        x = self.down2(x) #4x4x6\n",
    "        x = self.quat(x) #2x2X8\n",
    "        #DECODE\n",
    "        x = self.up1(x) #4x4x6\n",
    "        x = self.up2(x) #8x8x4\n",
    "        x = self.up3(x) #16x16x3\n",
    "        x = torch.relu(x)\n",
    "        return x    "
   ]
  },
  {
   "cell_type": "markdown",
   "metadata": {},
   "source": [
    "### [ TODO 2 ] Define evaulation function:\n",
    "Based on what we have learnt in class, Dice coefficient is defined as \n",
    "![dice.png](dice.png)\n",
    "For the case of evaluating a Dice coefficient on predicted segmentation masks, we can approximate intersection of A and B as the element-wise multiplication between the prediction and target mask, and then sum the resulting matrix.\n",
    "\n",
    "In order to quantify the area of A union B, some researchers use the simple sum whereas other researchers prefer to use the squared sum for this calculation. You can use either way.\n",
    "\n"
   ]
  },
  {
   "cell_type": "code",
   "execution_count": 93,
   "metadata": {},
   "outputs": [],
   "source": [
    "################################################ [TODO] ###################################################\n",
    "# define dice coefficient \n",
    "class MseCoeff(Function):\n",
    "    \"\"\"Dice coeff for one pair of input image and target image\"\"\"\n",
    "    def forward(self, input, target):\n",
    "        self.save_for_backward(input, target)\n",
    "        ################################################ [TODO] ###################################################\n",
    "        # Calculate intersection and union. \n",
    "        # You can convert the input image into a vector with input.contiguous().view(-1)\n",
    "        # Then use torch.dot(A, B) to calculate the intersection.\n",
    "        # Use torch.sum(A) to get the sum.\n",
    "        input = input.view(-1)\n",
    "        target = target.view(-1)\n",
    "        # Calculate Mean Squared Error\n",
    "        diff = input - target;\n",
    "        dot =  torch.dot(diff,diff)\n",
    "        dot = dot/input.numel()\n",
    "        return dot\n",
    "\n",
    "\n",
    "################################################ [TODO] ###################################################\n",
    "# Calculate dice coefficients for batches\n",
    "def mse_coeff(input, target):\n",
    "    \"\"\"Dice coeff for batches\"\"\"\n",
    "    s = torch.FloatTensor(1).zero_()    \n",
    "    # For each pair of input and target, call DiceCoeff().forward(input, target) to calculate dice coefficient\n",
    "    # Then average\n",
    "    MSE = MseCoeff()\n",
    "    for i, (c, b) in enumerate(zip(input, target)):\n",
    "        s += MSE.forward(c,b);\n",
    "    s = s / (i + 1)\n",
    "    return s"
   ]
  },
  {
   "cell_type": "markdown",
   "metadata": {},
   "source": [
    "### Load images and masks\n",
    "\n",
    "Load training imagse, normalize and resize them into smaller size so that you can perform training using a CPU. Split them into training and validation. Validation percent of 0.05 means 5% of training dataset is used as validation. In order to avoid repeated data preprocessing, we use the pickle tool to save the processed data.\n",
    "\n",
    "This part has been done for you. But please read through so that you learn the general processing steps."
   ]
  },
  {
   "cell_type": "code",
   "execution_count": 101,
   "metadata": {},
   "outputs": [],
   "source": [
    "validation = glob.glob('./Data/Validation/validation_16_3')\n",
    "train = glob.glob('./Data/Train/train_16_3')\n",
    "test = glob.glob('./Data/Test/test_16')\n",
    "valiDataset = []\n",
    "trainDataset = []\n",
    "testDataset = []\n",
    "#Loads the following in a list of (3, 16,16) and (3, 20,20)\n",
    "for i in range(len(validation)):\n",
    "    f=open(validation[i],'rb')\n",
    "    b=pickle.load(f)\n",
    "    #flip the data dimension\n",
    "    b = np.transpose(b, axes=[3, 2, 0, 1])\n",
    "    b=b+128/255.\n",
    "    f.close()\n",
    "    valiDataset.append(b)\n",
    "    \n",
    "for i in range(len(test)):\n",
    "    f=open(test[i],'rb')\n",
    "    b=pickle.load(f)\n",
    "    b = np.transpose(b, axes=[3, 2, 0, 1]) \n",
    "    b=b+128/255.\n",
    "    f.close()\n",
    "    testDataset.append(b)\n",
    "    \n",
    "for i in range(len(train)):\n",
    "    f=open(train[i],'rb')\n",
    "    b=pickle.load(f)\n",
    "    b = np.transpose(b, axes=[3, 2, 0, 1]) \n",
    "    b=b/255.\n",
    "    f.close()\n",
    "    trainDataset.append(b)\n",
    "# f1=open('trainDataset_16_center','rb')\n",
    "# trainDataset=pickle.load(f1)\n",
    "# f1.close()\n",
    "# f2=open('valiDataset_16_center','rb')\n",
    "# valiDataset=pickle.load(f2)\n",
    "# f2.close()\n",
    "# f3=open('testDataset_16_center','rb')\n",
    "# testDataset=pickle.load(f3)\n",
    "# f3.close()    "
   ]
  },
  {
   "cell_type": "code",
   "execution_count": 103,
   "metadata": {},
   "outputs": [
    {
     "name": "stdout",
     "output_type": "stream",
     "text": [
      "(16, 16, 3)\n"
     ]
    },
    {
     "data": {
      "image/png": "[encoded data removed]",
      "text/plain": [
       "<Figure size 432x288 with 1 Axes>"
      ]
     },
     "metadata": {
      "needs_background": "light"
     },
     "output_type": "display_data"
    }
   ],
   "source": [
    "#### Let us display some of the images to make sure the data loading and processing is correct.\n",
    "### the original size of the image is: 1280*1918, but we resize the image to 80*100 for \n",
    "### training the segmentation network\n",
    "img_num =6666\n",
    "a = valiDataset[0][img_num]\n",
    "a = np.transpose(a, axes = [1,2,0])\n",
    "print(a.shape)\n",
    "plt.imshow(a)\n",
    "plt.title(\"sample image\")\n",
    "plt.show()\n",
    "\n"
   ]
  },
  {
   "cell_type": "markdown",
   "metadata": {},
   "source": [
    "### Create datasets in the format that you can later use Torch  \"DataLoader\" during training and define  data augmentation "
   ]
  },
  {
   "cell_type": "code",
   "execution_count": 104,
   "metadata": {},
   "outputs": [],
   "source": [
    "#### define transform classes for  data augmentation\n",
    "class Flip(object):\n",
    "    \"\"\"\n",
    "    Flip the image left or right for data augmentation, but prefer original image.\n",
    "    \"\"\"\n",
    "    def __init__(self,ori_probability=0.60):\n",
    "        self.ori_probability = ori_probability\n",
    " \n",
    "    def __call__(self, sample):\n",
    "        if random.uniform(0,1) < self.ori_probability:\n",
    "            return sample\n",
    "        else:\n",
    "            img, label = sample['img'], sample['label']\n",
    "            img_flip = img[:,:,::-1]\n",
    "            label_flip = label[:,::-1]\n",
    "            \n",
    "            return {'img': img_flip, 'label': label_flip}\n",
    "        \n",
    "class ToTensor(object):\n",
    "    \"\"\"\n",
    "    Convert ndarrays in sample to Tensors.\n",
    "    \"\"\"\n",
    "    def __init__(self):\n",
    "        pass\n",
    "\n",
    "    def __call__(self, sample):\n",
    "        image, label = sample['img'], sample['label']\n",
    "\n",
    "        return {'img': torch.from_numpy(image.copy()).type(torch.FloatTensor),\n",
    "                'label': torch.from_numpy(label.copy()).type(torch.FloatTensor)}"
   ]
  },
  {
   "cell_type": "code",
   "execution_count": 105,
   "metadata": {},
   "outputs": [],
   "source": [
    "# the dataset class\n",
    "class CustomDataset(Dataset):\n",
    "    def __init__(self, image_masks, transforms=None):   # initial logic happens like transform\n",
    "\n",
    "        self.image_masks = image_masks\n",
    "        self.transforms = transforms\n",
    "    \n",
    "    def __len__(self):  # return count of sample we have\n",
    "\n",
    "        return len(self.image_masks)\n",
    "    \n",
    "    def __getitem__(self, index):\n",
    "        image = self.image_masks[index]\n",
    "        sample = {'img': image, 'label': image}\n",
    "        if transforms:\n",
    "            sample = self.transforms(sample)            \n",
    "        return sample\n",
    "\n",
    "train_dataset = CustomDataset(trainDataset[0], transforms=transforms.Compose([Flip(),ToTensor()]))\n",
    "val_dataset = CustomDataset(valiDataset[0], transforms=transforms.Compose([Flip(),ToTensor()]))"
   ]
  },
  {
   "cell_type": "code",
   "execution_count": null,
   "metadata": {},
   "outputs": [],
   "source": []
  },
  {
   "cell_type": "markdown",
   "metadata": {},
   "source": [
    "### [ TODO 3 ] Start training your network"
   ]
  },
  {
   "cell_type": "code",
   "execution_count": 106,
   "metadata": {},
   "outputs": [],
   "source": [
    "################################################ [TODO] ###################################################\n",
    "# Create a UNET object. Input channels = 3, output channels = 1\n",
    "net = UNet(3,1);"
   ]
  },
  {
   "cell_type": "code",
   "execution_count": 107,
   "metadata": {},
   "outputs": [],
   "source": [
    "################################################ [TODO] ###################################################\n",
    "# This function is used to evaluate the network after each epoch of training\n",
    "# Input: network and validation dataset\n",
    "# Output: average dice_coeff\n",
    "def eval_net(net, dataset):\n",
    "    # set net mode to evaluation\n",
    "    net.eval()\n",
    "    tot = 0\n",
    "    for i, b in enumerate(dataset):\n",
    "        img = b['img']\n",
    "        img = img.type(torch.FloatTensor);\n",
    "        ################################################ [TODO] ################################################### \n",
    "        # Feed in the image to get predicted mask\n",
    "        pred_img = net.forward(img)\n",
    "        tot += mse_coeff(pred_img,img);\n",
    "    return tot / (i + 1)"
   ]
  },
  {
   "cell_type": "code",
   "execution_count": 108,
   "metadata": {
    "scrolled": false
   },
   "outputs": [
    {
     "name": "stdout",
     "output_type": "stream",
     "text": [
      "Starting epoch 1/4.\n",
      "0.0000 --- loss: 0.210697\n",
      "0.0071 --- loss: 0.213843\n",
      "0.0143 --- loss: 0.195529\n",
      "0.0214 --- loss: 0.181584\n",
      "0.0286 --- loss: 0.142092\n",
      "0.0357 --- loss: 0.122113\n",
      "0.0429 --- loss: 0.116903\n",
      "0.0500 --- loss: 0.107772\n",
      "0.0571 --- loss: 0.122646\n",
      "0.0643 --- loss: 0.113141\n",
      "0.0714 --- loss: 0.107178\n",
      "0.0786 --- loss: 0.107627\n",
      "0.0857 --- loss: 0.108955\n",
      "0.0929 --- loss: 0.100692\n",
      "0.1000 --- loss: 0.101569\n",
      "0.1071 --- loss: 0.086877\n",
      "0.1143 --- loss: 0.099028\n",
      "0.1214 --- loss: 0.083958\n",
      "0.1286 --- loss: 0.086657\n",
      "0.1357 --- loss: 0.084567\n",
      "0.1429 --- loss: 0.073469\n",
      "0.1500 --- loss: 0.077220\n",
      "0.1571 --- loss: 0.079438\n",
      "0.1643 --- loss: 0.074212\n",
      "0.1714 --- loss: 0.079269\n",
      "0.1786 --- loss: 0.072295\n",
      "0.1857 --- loss: 0.066700\n",
      "0.1929 --- loss: 0.076872\n",
      "0.2000 --- loss: 0.065892\n",
      "0.2071 --- loss: 0.076284\n",
      "0.2143 --- loss: 0.060929\n",
      "0.2214 --- loss: 0.064538\n",
      "0.2286 --- loss: 0.064025\n",
      "0.2357 --- loss: 0.064622\n",
      "0.2429 --- loss: 0.059212\n",
      "0.2500 --- loss: 0.060201\n",
      "0.2571 --- loss: 0.056245\n",
      "0.2643 --- loss: 0.059577\n",
      "0.2714 --- loss: 0.054450\n",
      "0.2786 --- loss: 0.061424\n",
      "0.2857 --- loss: 0.056824\n",
      "0.2929 --- loss: 0.056708\n",
      "0.3000 --- loss: 0.056372\n",
      "0.3071 --- loss: 0.051261\n",
      "0.3143 --- loss: 0.052973\n",
      "0.3214 --- loss: 0.055786\n",
      "0.3286 --- loss: 0.049374\n",
      "0.3357 --- loss: 0.045492\n",
      "0.3429 --- loss: 0.046780\n",
      "0.3500 --- loss: 0.050960\n",
      "0.3571 --- loss: 0.046373\n",
      "0.3643 --- loss: 0.051431\n",
      "0.3714 --- loss: 0.049303\n",
      "0.3786 --- loss: 0.045941\n",
      "0.3857 --- loss: 0.047495\n",
      "0.3929 --- loss: 0.048218\n",
      "0.4000 --- loss: 0.047489\n",
      "0.4071 --- loss: 0.050912\n",
      "0.4143 --- loss: 0.044068\n",
      "0.4214 --- loss: 0.042636\n",
      "0.4286 --- loss: 0.041861\n",
      "0.4357 --- loss: 0.045858\n",
      "0.4429 --- loss: 0.041031\n",
      "0.4500 --- loss: 0.047144\n",
      "0.4571 --- loss: 0.039940\n",
      "0.4643 --- loss: 0.044781\n",
      "0.4714 --- loss: 0.041537\n",
      "0.4786 --- loss: 0.043682\n",
      "0.4857 --- loss: 0.041868\n",
      "0.4929 --- loss: 0.042109\n",
      "0.5000 --- loss: 0.038982\n",
      "0.5071 --- loss: 0.038882\n",
      "0.5143 --- loss: 0.038694\n",
      "0.5214 --- loss: 0.038284\n",
      "0.5286 --- loss: 0.038108\n",
      "0.5357 --- loss: 0.039094\n",
      "0.5429 --- loss: 0.038858\n",
      "0.5500 --- loss: 0.039603\n",
      "0.5571 --- loss: 0.035390\n",
      "0.5643 --- loss: 0.038919\n",
      "0.5714 --- loss: 0.041801\n",
      "0.5786 --- loss: 0.036159\n",
      "0.5857 --- loss: 0.039032\n",
      "0.5929 --- loss: 0.038324\n",
      "0.6000 --- loss: 0.037726\n",
      "0.6071 --- loss: 0.040448\n",
      "0.6143 --- loss: 0.035543\n",
      "0.6214 --- loss: 0.034227\n",
      "0.6286 --- loss: 0.032923\n",
      "0.6357 --- loss: 0.033825\n",
      "0.6429 --- loss: 0.034754\n",
      "0.6500 --- loss: 0.034447\n",
      "0.6571 --- loss: 0.032506\n",
      "0.6643 --- loss: 0.033527\n",
      "0.6714 --- loss: 0.033584\n",
      "0.6786 --- loss: 0.035000\n",
      "0.6857 --- loss: 0.037347\n",
      "0.6929 --- loss: 0.035425\n",
      "0.7000 --- loss: 0.032865\n",
      "0.7071 --- loss: 0.033727\n",
      "0.7143 --- loss: 0.032089\n",
      "0.7214 --- loss: 0.036126\n",
      "0.7286 --- loss: 0.033268\n",
      "0.7357 --- loss: 0.030322\n",
      "0.7429 --- loss: 0.032743\n",
      "0.7500 --- loss: 0.034991\n",
      "0.7571 --- loss: 0.031436\n",
      "0.7643 --- loss: 0.032884\n",
      "0.7714 --- loss: 0.030028\n",
      "0.7786 --- loss: 0.031399\n",
      "0.7857 --- loss: 0.030158\n",
      "0.7929 --- loss: 0.030973\n",
      "0.8000 --- loss: 0.035083\n",
      "0.8071 --- loss: 0.031894\n",
      "0.8143 --- loss: 0.031050\n",
      "0.8214 --- loss: 0.032841\n",
      "0.8286 --- loss: 0.029064\n",
      "0.8357 --- loss: 0.030788\n",
      "0.8429 --- loss: 0.030435\n",
      "0.8500 --- loss: 0.031060\n",
      "0.8571 --- loss: 0.029400\n",
      "0.8643 --- loss: 0.029930\n",
      "0.8714 --- loss: 0.033798\n",
      "0.8786 --- loss: 0.034625\n",
      "0.8857 --- loss: 0.028816\n",
      "0.8929 --- loss: 0.034257\n",
      "0.9000 --- loss: 0.029214\n",
      "0.9071 --- loss: 0.029697\n",
      "0.9143 --- loss: 0.031634\n",
      "0.9214 --- loss: 0.030568\n",
      "0.9286 --- loss: 0.029163\n",
      "0.9357 --- loss: 0.031972\n",
      "0.9429 --- loss: 0.028112\n",
      "0.9500 --- loss: 0.032594\n",
      "0.9571 --- loss: 0.027829\n",
      "0.9643 --- loss: 0.027412\n",
      "0.9714 --- loss: 0.029654\n",
      "0.9786 --- loss: 0.031500\n",
      "0.9857 --- loss: 0.028740\n",
      "0.9929 --- loss: 0.027556\n",
      "Epoch finished ! Loss: 0.05474545292073874\n",
      "Validation Dice Coeff: tensor([0.0273], grad_fn=<DivBackward0>)\n",
      "Checkpoint 1 saved !\n",
      "Starting epoch 2/4.\n",
      "0.0000 --- loss: 0.032079\n",
      "0.0071 --- loss: 0.025982\n",
      "0.0143 --- loss: 0.029771\n",
      "0.0214 --- loss: 0.027429\n",
      "0.0286 --- loss: 0.028842\n",
      "0.0357 --- loss: 0.033689\n",
      "0.0429 --- loss: 0.031300\n",
      "0.0500 --- loss: 0.027277\n",
      "0.0571 --- loss: 0.028590\n",
      "0.0643 --- loss: 0.028114\n",
      "0.0714 --- loss: 0.030164\n",
      "0.0786 --- loss: 0.028621\n",
      "0.0857 --- loss: 0.026142\n",
      "0.0929 --- loss: 0.029518\n",
      "0.1000 --- loss: 0.032202\n",
      "0.1071 --- loss: 0.025540\n",
      "0.1143 --- loss: 0.030220\n",
      "0.1214 --- loss: 0.029099\n",
      "0.1286 --- loss: 0.024840\n",
      "0.1357 --- loss: 0.027182\n",
      "0.1429 --- loss: 0.025789\n",
      "0.1500 --- loss: 0.027744\n",
      "0.1571 --- loss: 0.027588\n",
      "0.1643 --- loss: 0.030542\n",
      "0.1714 --- loss: 0.025877\n",
      "0.1786 --- loss: 0.025531\n",
      "0.1857 --- loss: 0.028965\n",
      "0.1929 --- loss: 0.028841\n",
      "0.2000 --- loss: 0.025970\n",
      "0.2071 --- loss: 0.025073\n",
      "0.2143 --- loss: 0.024774\n",
      "0.2214 --- loss: 0.027021\n",
      "0.2286 --- loss: 0.025929\n",
      "0.2357 --- loss: 0.025095\n",
      "0.2429 --- loss: 0.024074\n",
      "0.2500 --- loss: 0.026726\n",
      "0.2571 --- loss: 0.025290\n",
      "0.2643 --- loss: 0.026340\n",
      "0.2714 --- loss: 0.028032\n",
      "0.2786 --- loss: 0.026559\n",
      "0.2857 --- loss: 0.027513\n",
      "0.2929 --- loss: 0.025660\n",
      "0.3000 --- loss: 0.025694\n",
      "0.3071 --- loss: 0.027295\n",
      "0.3143 --- loss: 0.026486\n",
      "0.3214 --- loss: 0.025963\n",
      "0.3286 --- loss: 0.025665\n",
      "0.3357 --- loss: 0.027679\n",
      "0.3429 --- loss: 0.024106\n",
      "0.3500 --- loss: 0.026475\n",
      "0.3571 --- loss: 0.024819\n",
      "0.3643 --- loss: 0.024926\n",
      "0.3714 --- loss: 0.024515\n",
      "0.3786 --- loss: 0.026097\n",
      "0.3857 --- loss: 0.024239\n",
      "0.3929 --- loss: 0.026894\n",
      "0.4000 --- loss: 0.026232\n",
      "0.4071 --- loss: 0.023298\n",
      "0.4143 --- loss: 0.024055\n",
      "0.4214 --- loss: 0.026055\n",
      "0.4286 --- loss: 0.023699\n",
      "0.4357 --- loss: 0.024845\n",
      "0.4429 --- loss: 0.023955\n",
      "0.4500 --- loss: 0.028054\n",
      "0.4571 --- loss: 0.025467\n",
      "0.4643 --- loss: 0.024129\n",
      "0.4714 --- loss: 0.023819\n",
      "0.4786 --- loss: 0.024672\n",
      "0.4857 --- loss: 0.022961\n",
      "0.4929 --- loss: 0.025229\n",
      "0.5000 --- loss: 0.025026\n",
      "0.5071 --- loss: 0.023466\n",
      "0.5143 --- loss: 0.022613\n",
      "0.5214 --- loss: 0.023017\n",
      "0.5286 --- loss: 0.023823\n",
      "0.5357 --- loss: 0.023141\n",
      "0.5429 --- loss: 0.024545\n",
      "0.5500 --- loss: 0.026296\n",
      "0.5571 --- loss: 0.025084\n",
      "0.5643 --- loss: 0.024185\n",
      "0.5714 --- loss: 0.023325\n",
      "0.5786 --- loss: 0.022861\n",
      "0.5857 --- loss: 0.023781\n",
      "0.5929 --- loss: 0.022840\n",
      "0.6000 --- loss: 0.024421\n",
      "0.6071 --- loss: 0.022937\n",
      "0.6143 --- loss: 0.021723\n",
      "0.6214 --- loss: 0.024484\n",
      "0.6286 --- loss: 0.024243\n",
      "0.6357 --- loss: 0.022448\n",
      "0.6429 --- loss: 0.021923\n",
      "0.6500 --- loss: 0.025027\n",
      "0.6571 --- loss: 0.023898\n",
      "0.6643 --- loss: 0.023981\n",
      "0.6714 --- loss: 0.021469\n",
      "0.6786 --- loss: 0.022907\n",
      "0.6857 --- loss: 0.021000\n",
      "0.6929 --- loss: 0.022442\n",
      "0.7000 --- loss: 0.021573\n",
      "0.7071 --- loss: 0.023315\n",
      "0.7143 --- loss: 0.023039\n",
      "0.7214 --- loss: 0.021855\n",
      "0.7286 --- loss: 0.022450\n",
      "0.7357 --- loss: 0.022369\n",
      "0.7429 --- loss: 0.022744\n",
      "0.7500 --- loss: 0.022849\n",
      "0.7571 --- loss: 0.022739\n",
      "0.7643 --- loss: 0.021267\n",
      "0.7714 --- loss: 0.022910\n",
      "0.7786 --- loss: 0.022068\n",
      "0.7857 --- loss: 0.021538\n",
      "0.7929 --- loss: 0.021259\n",
      "0.8000 --- loss: 0.024271\n",
      "0.8071 --- loss: 0.020912\n",
      "0.8143 --- loss: 0.019792\n",
      "0.8214 --- loss: 0.021613\n",
      "0.8286 --- loss: 0.019149\n",
      "0.8357 --- loss: 0.020046\n",
      "0.8429 --- loss: 0.022672\n",
      "0.8500 --- loss: 0.020551\n",
      "0.8571 --- loss: 0.021764\n",
      "0.8643 --- loss: 0.020600\n",
      "0.8714 --- loss: 0.020717\n",
      "0.8786 --- loss: 0.020878\n",
      "0.8857 --- loss: 0.019903\n",
      "0.8929 --- loss: 0.021248\n",
      "0.9000 --- loss: 0.022108\n",
      "0.9071 --- loss: 0.019288\n",
      "0.9143 --- loss: 0.021194\n",
      "0.9214 --- loss: 0.018801\n",
      "0.9286 --- loss: 0.019995\n",
      "0.9357 --- loss: 0.020321\n",
      "0.9429 --- loss: 0.019671\n",
      "0.9500 --- loss: 0.021090\n",
      "0.9571 --- loss: 0.019471\n",
      "0.9643 --- loss: 0.019124\n",
      "0.9714 --- loss: 0.021205\n",
      "0.9786 --- loss: 0.020558\n",
      "0.9857 --- loss: 0.022124\n",
      "0.9929 --- loss: 0.019400\n",
      "Epoch finished ! Loss: 0.024577025069500043\n",
      "Validation Dice Coeff: tensor([0.0190], grad_fn=<DivBackward0>)\n",
      "Checkpoint 2 saved !\n",
      "Starting epoch 3/4.\n",
      "0.0000 --- loss: 0.019937\n",
      "0.0071 --- loss: 0.019043\n",
      "0.0143 --- loss: 0.020748\n",
      "0.0214 --- loss: 0.021048\n",
      "0.0286 --- loss: 0.018196\n",
      "0.0357 --- loss: 0.018116\n",
      "0.0429 --- loss: 0.018817\n",
      "0.0500 --- loss: 0.020051\n",
      "0.0571 --- loss: 0.019555\n",
      "0.0643 --- loss: 0.021976\n",
      "0.0714 --- loss: 0.021112\n",
      "0.0786 --- loss: 0.020292\n",
      "0.0857 --- loss: 0.017283\n",
      "0.0929 --- loss: 0.019859\n",
      "0.1000 --- loss: 0.018426\n",
      "0.1071 --- loss: 0.020220\n",
      "0.1143 --- loss: 0.019932\n",
      "0.1214 --- loss: 0.019722\n",
      "0.1286 --- loss: 0.018655\n",
      "0.1357 --- loss: 0.018229\n",
      "0.1429 --- loss: 0.017012\n",
      "0.1500 --- loss: 0.018509\n",
      "0.1571 --- loss: 0.017678\n"
     ]
    },
    {
     "name": "stdout",
     "output_type": "stream",
     "text": [
      "0.1643 --- loss: 0.018694\n",
      "0.1714 --- loss: 0.017285\n",
      "0.1786 --- loss: 0.021646\n",
      "0.1857 --- loss: 0.018183\n",
      "0.1929 --- loss: 0.018778\n",
      "0.2000 --- loss: 0.017925\n",
      "0.2071 --- loss: 0.019072\n",
      "0.2143 --- loss: 0.019895\n",
      "0.2214 --- loss: 0.019073\n",
      "0.2286 --- loss: 0.019673\n",
      "0.2357 --- loss: 0.016760\n",
      "0.2429 --- loss: 0.018342\n",
      "0.2500 --- loss: 0.017481\n",
      "0.2571 --- loss: 0.017765\n",
      "0.2643 --- loss: 0.017196\n",
      "0.2714 --- loss: 0.019663\n",
      "0.2786 --- loss: 0.019132\n",
      "0.2857 --- loss: 0.018839\n",
      "0.2929 --- loss: 0.018766\n",
      "0.3000 --- loss: 0.018830\n",
      "0.3071 --- loss: 0.018537\n",
      "0.3143 --- loss: 0.018622\n",
      "0.3214 --- loss: 0.019280\n",
      "0.3286 --- loss: 0.017493\n",
      "0.3357 --- loss: 0.018200\n",
      "0.3429 --- loss: 0.018307\n",
      "0.3500 --- loss: 0.018623\n",
      "0.3571 --- loss: 0.017749\n",
      "0.3643 --- loss: 0.016458\n",
      "0.3714 --- loss: 0.017213\n",
      "0.3786 --- loss: 0.020431\n",
      "0.3857 --- loss: 0.019198\n",
      "0.3929 --- loss: 0.018099\n",
      "0.4000 --- loss: 0.017997\n",
      "0.4071 --- loss: 0.016213\n",
      "0.4143 --- loss: 0.016750\n",
      "0.4214 --- loss: 0.016269\n",
      "0.4286 --- loss: 0.016782\n",
      "0.4357 --- loss: 0.019200\n",
      "0.4429 --- loss: 0.017998\n",
      "0.4500 --- loss: 0.016249\n",
      "0.4571 --- loss: 0.018031\n",
      "0.4643 --- loss: 0.018661\n",
      "0.4714 --- loss: 0.016891\n",
      "0.4786 --- loss: 0.018621\n",
      "0.4857 --- loss: 0.017269\n",
      "0.4929 --- loss: 0.014959\n",
      "0.5000 --- loss: 0.017294\n",
      "0.5071 --- loss: 0.019057\n",
      "0.5143 --- loss: 0.016963\n",
      "0.5214 --- loss: 0.017673\n",
      "0.5286 --- loss: 0.017878\n",
      "0.5357 --- loss: 0.017266\n",
      "0.5429 --- loss: 0.017037\n",
      "0.5500 --- loss: 0.016603\n",
      "0.5571 --- loss: 0.017930\n",
      "0.5643 --- loss: 0.017085\n",
      "0.5714 --- loss: 0.017275\n",
      "0.5786 --- loss: 0.016332\n",
      "0.5857 --- loss: 0.016290\n",
      "0.5929 --- loss: 0.015658\n",
      "0.6000 --- loss: 0.017030\n",
      "0.6071 --- loss: 0.018162\n",
      "0.6143 --- loss: 0.016779\n",
      "0.6214 --- loss: 0.016674\n",
      "0.6286 --- loss: 0.019133\n",
      "0.6357 --- loss: 0.015730\n",
      "0.6429 --- loss: 0.015939\n",
      "0.6500 --- loss: 0.015547\n",
      "0.6571 --- loss: 0.017635\n",
      "0.6643 --- loss: 0.017886\n",
      "0.6714 --- loss: 0.018537\n",
      "0.6786 --- loss: 0.017108\n",
      "0.6857 --- loss: 0.016625\n",
      "0.6929 --- loss: 0.017256\n",
      "0.7000 --- loss: 0.016082\n",
      "0.7071 --- loss: 0.016343\n",
      "0.7143 --- loss: 0.017305\n",
      "0.7214 --- loss: 0.016393\n",
      "0.7286 --- loss: 0.018189\n",
      "0.7357 --- loss: 0.016064\n",
      "0.7429 --- loss: 0.018520\n",
      "0.7500 --- loss: 0.017651\n",
      "0.7571 --- loss: 0.016045\n",
      "0.7643 --- loss: 0.015433\n",
      "0.7714 --- loss: 0.017824\n",
      "0.7786 --- loss: 0.015478\n",
      "0.7857 --- loss: 0.016139\n",
      "0.7929 --- loss: 0.017942\n",
      "0.8000 --- loss: 0.016487\n",
      "0.8071 --- loss: 0.016817\n",
      "0.8143 --- loss: 0.017188\n",
      "0.8214 --- loss: 0.016609\n",
      "0.8286 --- loss: 0.017161\n",
      "0.8357 --- loss: 0.014824\n",
      "0.8429 --- loss: 0.017870\n",
      "0.8500 --- loss: 0.017240\n",
      "0.8571 --- loss: 0.016771\n",
      "0.8643 --- loss: 0.016526\n",
      "0.8714 --- loss: 0.016052\n",
      "0.8786 --- loss: 0.016542\n",
      "0.8857 --- loss: 0.015858\n",
      "0.8929 --- loss: 0.015832\n",
      "0.9000 --- loss: 0.016435\n",
      "0.9071 --- loss: 0.018231\n",
      "0.9143 --- loss: 0.014941\n",
      "0.9214 --- loss: 0.014262\n",
      "0.9286 --- loss: 0.016742\n",
      "0.9357 --- loss: 0.016454\n",
      "0.9429 --- loss: 0.015572\n",
      "0.9500 --- loss: 0.016243\n",
      "0.9571 --- loss: 0.016407\n",
      "0.9643 --- loss: 0.015987\n",
      "0.9714 --- loss: 0.015577\n",
      "0.9786 --- loss: 0.015566\n",
      "0.9857 --- loss: 0.016222\n",
      "0.9929 --- loss: 0.016120\n",
      "Epoch finished ! Loss: 0.017768621712708644\n",
      "Validation Dice Coeff: tensor([0.0154], grad_fn=<DivBackward0>)\n",
      "Checkpoint 3 saved !\n",
      "Starting epoch 4/4.\n",
      "0.0000 --- loss: 0.016786\n",
      "0.0071 --- loss: 0.015630\n",
      "0.0143 --- loss: 0.016873\n",
      "0.0214 --- loss: 0.014639\n",
      "0.0286 --- loss: 0.017134\n",
      "0.0357 --- loss: 0.016348\n",
      "0.0429 --- loss: 0.016648\n",
      "0.0500 --- loss: 0.015935\n",
      "0.0571 --- loss: 0.015350\n",
      "0.0643 --- loss: 0.016390\n",
      "0.0714 --- loss: 0.015242\n",
      "0.0786 --- loss: 0.016621\n",
      "0.0857 --- loss: 0.015976\n",
      "0.0929 --- loss: 0.015868\n",
      "0.1000 --- loss: 0.015497\n",
      "0.1071 --- loss: 0.015774\n",
      "0.1143 --- loss: 0.015383\n",
      "0.1214 --- loss: 0.015510\n",
      "0.1286 --- loss: 0.014647\n",
      "0.1357 --- loss: 0.015915\n",
      "0.1429 --- loss: 0.016748\n",
      "0.1500 --- loss: 0.014942\n",
      "0.1571 --- loss: 0.016432\n",
      "0.1643 --- loss: 0.015311\n",
      "0.1714 --- loss: 0.015582\n",
      "0.1786 --- loss: 0.014443\n",
      "0.1857 --- loss: 0.016091\n",
      "0.1929 --- loss: 0.015597\n",
      "0.2000 --- loss: 0.017128\n",
      "0.2071 --- loss: 0.015414\n",
      "0.2143 --- loss: 0.015619\n",
      "0.2214 --- loss: 0.016027\n",
      "0.2286 --- loss: 0.015627\n",
      "0.2357 --- loss: 0.015497\n",
      "0.2429 --- loss: 0.014979\n",
      "0.2500 --- loss: 0.017270\n",
      "0.2571 --- loss: 0.015907\n",
      "0.2643 --- loss: 0.014903\n",
      "0.2714 --- loss: 0.014334\n",
      "0.2786 --- loss: 0.015559\n",
      "0.2857 --- loss: 0.015242\n",
      "0.2929 --- loss: 0.014092\n",
      "0.3000 --- loss: 0.015017\n",
      "0.3071 --- loss: 0.014661\n",
      "0.3143 --- loss: 0.015618\n",
      "0.3214 --- loss: 0.015630\n",
      "0.3286 --- loss: 0.014923\n",
      "0.3357 --- loss: 0.015154\n",
      "0.3429 --- loss: 0.015789\n",
      "0.3500 --- loss: 0.015406\n",
      "0.3571 --- loss: 0.014830\n",
      "0.3643 --- loss: 0.014977\n",
      "0.3714 --- loss: 0.015488\n",
      "0.3786 --- loss: 0.014488\n",
      "0.3857 --- loss: 0.013295\n",
      "0.3929 --- loss: 0.016090\n",
      "0.4000 --- loss: 0.013634\n",
      "0.4071 --- loss: 0.014165\n",
      "0.4143 --- loss: 0.016048\n",
      "0.4214 --- loss: 0.014818\n",
      "0.4286 --- loss: 0.015359\n",
      "0.4357 --- loss: 0.014435\n",
      "0.4429 --- loss: 0.015243\n",
      "0.4500 --- loss: 0.015414\n",
      "0.4571 --- loss: 0.015735\n",
      "0.4643 --- loss: 0.014488\n",
      "0.4714 --- loss: 0.013881\n",
      "0.4786 --- loss: 0.013943\n",
      "0.4857 --- loss: 0.015612\n",
      "0.4929 --- loss: 0.014709\n",
      "0.5000 --- loss: 0.015859\n",
      "0.5071 --- loss: 0.014991\n",
      "0.5143 --- loss: 0.014610\n",
      "0.5214 --- loss: 0.014924\n",
      "0.5286 --- loss: 0.014857\n",
      "0.5357 --- loss: 0.013781\n",
      "0.5429 --- loss: 0.015263\n",
      "0.5500 --- loss: 0.013836\n",
      "0.5571 --- loss: 0.014247\n",
      "0.5643 --- loss: 0.016332\n",
      "0.5714 --- loss: 0.014884\n",
      "0.5786 --- loss: 0.014933\n",
      "0.5857 --- loss: 0.014300\n",
      "0.5929 --- loss: 0.014721\n",
      "0.6000 --- loss: 0.013896\n",
      "0.6071 --- loss: 0.016917\n",
      "0.6143 --- loss: 0.014244\n",
      "0.6214 --- loss: 0.014080\n",
      "0.6286 --- loss: 0.014967\n",
      "0.6357 --- loss: 0.015027\n",
      "0.6429 --- loss: 0.015048\n",
      "0.6500 --- loss: 0.013957\n",
      "0.6571 --- loss: 0.014327\n",
      "0.6643 --- loss: 0.014916\n",
      "0.6714 --- loss: 0.013168\n",
      "0.6786 --- loss: 0.013576\n",
      "0.6857 --- loss: 0.015766\n",
      "0.6929 --- loss: 0.016550\n",
      "0.7000 --- loss: 0.014695\n",
      "0.7071 --- loss: 0.013893\n",
      "0.7143 --- loss: 0.015078\n",
      "0.7214 --- loss: 0.014415\n",
      "0.7286 --- loss: 0.013847\n",
      "0.7357 --- loss: 0.016004\n",
      "0.7429 --- loss: 0.014173\n",
      "0.7500 --- loss: 0.013831\n",
      "0.7571 --- loss: 0.015385\n",
      "0.7643 --- loss: 0.013521\n",
      "0.7714 --- loss: 0.013819\n",
      "0.7786 --- loss: 0.015962\n",
      "0.7857 --- loss: 0.014310\n",
      "0.7929 --- loss: 0.014802\n",
      "0.8000 --- loss: 0.015267\n",
      "0.8071 --- loss: 0.014303\n",
      "0.8143 --- loss: 0.014361\n",
      "0.8214 --- loss: 0.015075\n",
      "0.8286 --- loss: 0.014352\n",
      "0.8357 --- loss: 0.014735\n",
      "0.8429 --- loss: 0.014722\n",
      "0.8500 --- loss: 0.015015\n",
      "0.8571 --- loss: 0.014888\n",
      "0.8643 --- loss: 0.014678\n",
      "0.8714 --- loss: 0.014641\n",
      "0.8786 --- loss: 0.014921\n",
      "0.8857 --- loss: 0.014923\n",
      "0.8929 --- loss: 0.015325\n",
      "0.9000 --- loss: 0.012353\n",
      "0.9071 --- loss: 0.014747\n",
      "0.9143 --- loss: 0.015005\n",
      "0.9214 --- loss: 0.014274\n",
      "0.9286 --- loss: 0.014305\n",
      "0.9357 --- loss: 0.013707\n",
      "0.9429 --- loss: 0.014868\n",
      "0.9500 --- loss: 0.013823\n",
      "0.9571 --- loss: 0.016199\n",
      "0.9643 --- loss: 0.014068\n",
      "0.9714 --- loss: 0.013791\n",
      "0.9786 --- loss: 0.013326\n",
      "0.9857 --- loss: 0.015201\n",
      "0.9929 --- loss: 0.015209\n",
      "Epoch finished ! Loss: 0.015147899177005823\n",
      "Validation Dice Coeff: tensor([0.0136], grad_fn=<DivBackward0>)\n",
      "Checkpoint 4 saved !\n"
     ]
    }
   ],
   "source": [
    "################################################ [TODO] ###################################################\n",
    "# Specify number of epochs, image scale factor, batch size and learning rate\n",
    "epochs = 4 # i.e, 4\n",
    "batch_size = 500 # i.e, 16\n",
    "lr = 0.01        # i.e, 0.01\n",
    "lr_lambda = lambda epoch: 0.95 ** epoch\n",
    "N_train = len(train_dataset)\n",
    "model_save_path = './model/'  # directory to same the model after each epoch. \n",
    "\n",
    "\n",
    "################################################ [TODO] ###################################################\n",
    "# Define an optimizer for your model.\n",
    "# Pytorch has built-in package called optim. Most commonly used methods are already supported.\n",
    "# Here we use stochastic gradient descent to optimize\n",
    "# For usage of SGD, you can read https://pytorch.org/docs/stable/_modules/torch/optim/sgd.html\n",
    "# Also you can use ADAM as the optimizer\n",
    "# For usage of ADAM, you can read https://www.programcreek.com/python/example/92667/torch.optim.Adam\n",
    "\n",
    "optimizer = optim.SGD(net.parameters(), lr, momentum=0.9)\n",
    "scheduler = torch.optim.lr_scheduler.LambdaLR(optimizer, lr_lambda)\n",
    "#suggested parameter settings: momentum=0.9, weight_decay=0.0005\n",
    "\n",
    "#OR optimizer = optim.Adam(...)\n",
    "\n",
    "\n",
    "# The loss function we use is binary cross entropy: nn.BCELoss()\n",
    "criterion = nn.MSELoss()\n",
    "# note that although we want to use DICE for evaluation, we use BCELoss for training in this example\n",
    "\n",
    "################################################ [TODO] ###################################################\n",
    "# Start training\n",
    "for epoch in range(epochs):\n",
    "    print('Starting epoch {}/{}.'.format(epoch + 1, epochs))\n",
    "\n",
    "    # Reload images and masks for training and validation and perform random shuffling at the begining of each epoch\n",
    "    train_loader = torch.utils.data.DataLoader(train_dataset, batch_size=batch_size, shuffle=True, num_workers=2)\n",
    "    val_loader = torch.utils.data.DataLoader(val_dataset, batch_size=batch_size, shuffle=True, num_workers=2)\n",
    "    epoch_loss = 0\n",
    "    scheduler.step()\n",
    "    net.train()\n",
    "\n",
    "    for i, b in enumerate(train_loader):\n",
    "        ################################################ [TODO] ###################################################\n",
    "        # Get images and masks from each batch\n",
    "        imgs = b['img']\n",
    "        imgs = imgs.type(torch.FloatTensor);\n",
    "        ################################################ [TODO] ###################################################\n",
    "        # Feed your images into the network\n",
    "        img_pred = net.forward(imgs)\n",
    "        # Flatten the predicted masks and true masks. For example, A_flat = A.view(-1)\n",
    "        img_pred_flat = img_pred.view(-1)\n",
    "        imgs_flat = imgs.view(-1)\n",
    "        imgs_flat = imgs_flat\n",
    "        ################################################ [TODO] ###################################################\n",
    "        # Calculate the loss by comparing the predicted masks vector and true masks vector\n",
    "        # And sum the losses together \n",
    "        loss = criterion(img_pred_flat, imgs_flat)\n",
    "        epoch_loss += loss.item()\n",
    "\n",
    "        print('{0:.4f} --- loss: {1:.6f}'.format(i * batch_size / N_train, loss.item()))\n",
    "\n",
    "        # optimizer.zero_grad() clears x.grad for every parameter x in the optimizer. \n",
    "        # It’s important to call this before loss.backward(), otherwise you’ll accumulate the gradients from multiple passes.\n",
    "        optimizer.zero_grad()\n",
    "        # loss.backward() computes dloss/dx for every parameter x which has requires_grad=True. \n",
    "        # These are accumulated into x.grad for every parameter x\n",
    "        # x.grad += dloss/dx\n",
    "        loss.backward()\n",
    "        # optimizer.step updates the value of x using the gradient x.grad. \n",
    "        # x += -lr * x.grad\n",
    "        optimizer.step()\n",
    "\n",
    "    print('Epoch finished ! Loss: {}'.format(epoch_loss / i))\n",
    "    ################################################ [TODO] ###################################################\n",
    "    # Perform validation with eval_net() on the validation data\n",
    "    val_dice = eval_net(net, val_loader)\n",
    "    print('Validation Dice Coeff: {}'.format(val_dice))\n",
    "    # Save the model after each epoch\n",
    "    if os.path.isdir(model_save_path):\n",
    "        torch.save(net.state_dict(),model_save_path + 'Car_Seg_Epoch{}.pth'.format(epoch + 1))\n",
    "    else:\n",
    "        os.makedirs(model_save_path, exist_ok=True)\n",
    "        torch.save(net.state_dict(),model_save_path + 'Car_Seg_Epoch{}.pth'.format(epoch + 1))\n",
    "    print('Checkpoint {} saved !'.format(epoch + 1))\n"
   ]
  },
  {
   "cell_type": "markdown",
   "metadata": {},
   "source": [
    "### [ TODO 4 ] load one image from testing dataset and plot output mask"
   ]
  },
  {
   "cell_type": "code",
   "execution_count": 109,
   "metadata": {},
   "outputs": [],
   "source": [
    "################################################ [TODO] ###################################################\n",
    "# Define a function for prediction/testing\n",
    "def predict_img(net,full_img):\n",
    "    # set the mode of your network to evaluation\n",
    "    net.eval()\n",
    "    \n",
    "    # convert from Height*Width*Channel TO Channel*Height*Width\n",
    "    # convert numpy array to torch tensor \n",
    "    #Unsqueeze add an extra dimension\n",
    "    X_img = torch.from_numpy(full_img).unsqueeze(0)\n",
    "    X_img = X_img.type(torch.FloatTensor)\n",
    "    with torch.no_grad():\n",
    "        ################################################ [TODO] ###################################################\n",
    "        # predict the masks \n",
    "        output_img = net.forward(X_img)\n",
    "        output_img = output_img.squeeze(0)\n",
    "    # For all pixels in predicted mask, set them to 1 if larger than out_threshold. Otherwise set them to 0\n",
    "    return output_img\n"
   ]
  },
  {
   "cell_type": "code",
   "execution_count": 110,
   "metadata": {},
   "outputs": [],
   "source": [
    "# You might need to use these functions in the following steps\n",
    "# hwc_to_chw: Convert images from Height*Width*Channels to Channels*Height*Width\n",
    "def hwc_to_chw(img):\n",
    "    return np.transpose(img, axes=[2, 0, 1])"
   ]
  },
  {
   "cell_type": "code",
   "execution_count": null,
   "metadata": {},
   "outputs": [],
   "source": []
  },
  {
   "cell_type": "markdown",
   "metadata": {},
   "source": [
    "### Plot original image and mask image"
   ]
  },
  {
   "cell_type": "code",
   "execution_count": 111,
   "metadata": {
    "scrolled": false
   },
   "outputs": [
    {
     "data": {
      "image/png": "[encoded data removed]",
      "text/plain": [
       "<Figure size 432x288 with 1 Axes>"
      ]
     },
     "metadata": {
      "needs_background": "light"
     },
     "output_type": "display_data"
    },
    {
     "data": {
      "image/png": "[encoded data removed]",
      "text/plain": [
       "<Figure size 432x288 with 1 Axes>"
      ]
     },
     "metadata": {
      "needs_background": "light"
     },
     "output_type": "display_data"
    },
    {
     "data": {
      "image/png": "[encoded data removed]",
      "text/plain": [
       "<Figure size 432x288 with 1 Axes>"
      ]
     },
     "metadata": {
      "needs_background": "light"
     },
     "output_type": "display_data"
    },
    {
     "data": {
      "image/png": "[encoded data removed]",
      "text/plain": [
       "<Figure size 432x288 with 1 Axes>"
      ]
     },
     "metadata": {
      "needs_background": "light"
     },
     "output_type": "display_data"
    },
    {
     "data": {
      "image/png": "[encoded data removed]",
      "text/plain": [
       "<Figure size 432x288 with 1 Axes>"
      ]
     },
     "metadata": {
      "needs_background": "light"
     },
     "output_type": "display_data"
    },
    {
     "data": {
      "image/png": "[encoded data removed]",
      "text/plain": [
       "<Figure size 432x288 with 1 Axes>"
      ]
     },
     "metadata": {
      "needs_background": "light"
     },
     "output_type": "display_data"
    },
    {
     "data": {
      "image/png": "[encoded data removed]",
      "text/plain": [
       "<Figure size 432x288 with 1 Axes>"
      ]
     },
     "metadata": {
      "needs_background": "light"
     },
     "output_type": "display_data"
    },
    {
     "data": {
      "image/png": "[encoded data removed]",
      "text/plain": [
       "<Figure size 432x288 with 1 Axes>"
      ]
     },
     "metadata": {
      "needs_background": "light"
     },
     "output_type": "display_data"
    },
    {
     "data": {
      "image/png": "[encoded data removed]",
      "text/plain": [
       "<Figure size 432x288 with 1 Axes>"
      ]
     },
     "metadata": {
      "needs_background": "light"
     },
     "output_type": "display_data"
    },
    {
     "data": {
      "image/png": "[encoded data removed]",
      "text/plain": [
       "<Figure size 432x288 with 1 Axes>"
      ]
     },
     "metadata": {
      "needs_background": "light"
     },
     "output_type": "display_data"
    },
    {
     "data": {
      "image/png": "[encoded data removed]",
      "text/plain": [
       "<Figure size 432x288 with 1 Axes>"
      ]
     },
     "metadata": {
      "needs_background": "light"
     },
     "output_type": "display_data"
    },
    {
     "data": {
      "image/png": "[encoded data removed]",
      "text/plain": [
       "<Figure size 432x288 with 1 Axes>"
      ]
     },
     "metadata": {
      "needs_background": "light"
     },
     "output_type": "display_data"
    },
    {
     "data": {
      "image/png": "[encoded data removed]",
      "text/plain": [
       "<Figure size 432x288 with 1 Axes>"
      ]
     },
     "metadata": {
      "needs_background": "light"
     },
     "output_type": "display_data"
    },
    {
     "data": {
      "image/png": "[encoded data removed]",
      "text/plain": [
       "<Figure size 432x288 with 1 Axes>"
      ]
     },
     "metadata": {
      "needs_background": "light"
     },
     "output_type": "display_data"
    },
    {
     "data": {
      "image/png": "[encoded data removed]",
      "text/plain": [
       "<Figure size 432x288 with 1 Axes>"
      ]
     },
     "metadata": {
      "needs_background": "light"
     },
     "output_type": "display_data"
    },
    {
     "data": {
      "image/png": "[encoded data removed]",
      "text/plain": [
       "<Figure size 432x288 with 1 Axes>"
      ]
     },
     "metadata": {
      "needs_background": "light"
     },
     "output_type": "display_data"
    },
    {
     "data": {
      "image/png": "[encoded data removed]",
      "text/plain": [
       "<Figure size 432x288 with 1 Axes>"
      ]
     },
     "metadata": {
      "needs_background": "light"
     },
     "output_type": "display_data"
    },
    {
     "data": {
      "image/png": "[encoded data removed]",
      "text/plain": [
       "<Figure size 432x288 with 1 Axes>"
      ]
     },
     "metadata": {
      "needs_background": "light"
     },
     "output_type": "display_data"
    },
    {
     "data": {
      "image/png": "[encoded data removed]",
      "text/plain": [
       "<Figure size 432x288 with 1 Axes>"
      ]
     },
     "metadata": {
      "needs_background": "light"
     },
     "output_type": "display_data"
    },
    {
     "data": {
      "image/png": "[encoded data removed]",
      "text/plain": [
       "<Figure size 432x288 with 1 Axes>"
      ]
     },
     "metadata": {
      "needs_background": "light"
     },
     "output_type": "display_data"
    },
    {
     "data": {
      "text/plain": [
       "<Figure size 432x288 with 0 Axes>"
      ]
     },
     "metadata": {},
     "output_type": "display_data"
    }
   ],
   "source": [
    "for i in range(10):# Plot original images and masks\n",
    "#127/23/123/5\n",
    "    imgnum = i*100\n",
    "    test_img = trainDataset[0][imgnum]\n",
    "    #test_img = np.zeros((3,16,16))\n",
    "    test_img_show = np.transpose(test_img, axes=[1, 2, 0])\n",
    "#test_img_show = (test_img_show)*255#+128\n",
    "#test_img_show = test_img_show.astype(int)\n",
    "#print(test_img_show)\n",
    "    plt.imshow(test_img_show)\n",
    "    plt.title(\"original image\")\n",
    "    plt.figure()\n",
    "#Predict a new image\n",
    "    pred_img = predict_img(net, test_img)\n",
    "    pred_img_show = np.transpose(pred_img, axes=[1, 2, 0])\n",
    "#pred_img_show = pred_img_show*255#+128\n",
    "#pred_img_show = pred_img_show.type(torch.uint8)\n",
    "    plt.imshow(pred_img_show)\n",
    "    plt.title(\"predicted image\")\n",
    "    plt.figure()\n",
    "\n",
    "    #print(pred_img_show)"
   ]
  },
  {
   "cell_type": "code",
   "execution_count": 112,
   "metadata": {},
   "outputs": [],
   "source": [
    "# ###Saving Parameters\n",
    "# PATH = './model/modelparams.pth'\n",
    "# torch.save(net, PATH)"
   ]
  },
  {
   "cell_type": "code",
   "execution_count": 113,
   "metadata": {},
   "outputs": [],
   "source": [
    "# # Loading parameters\n",
    "# PATH = './model/modelparams.pth'\n",
    "# net = torch.load(PATH)"
   ]
  },
  {
   "cell_type": "code",
   "execution_count": 114,
   "metadata": {},
   "outputs": [
    {
     "name": "stdout",
     "output_type": "stream",
     "text": [
      "Validation Dice Coeff: tensor([0.0136], grad_fn=<DivBackward0>)\n"
     ]
    }
   ],
   "source": [
    "val_dice = eval_net(net, val_loader)\n",
    "print('Validation Dice Coeff: {}'.format(val_dice))"
   ]
  },
  {
   "cell_type": "code",
   "execution_count": 115,
   "metadata": {},
   "outputs": [],
   "source": [
    "validation_20 = glob.glob('./Data/Validation/validation_20')\n",
    "train_20 = glob.glob('./Data/Train/train_20')\n",
    "test_20 = glob.glob('./Data/Test/test_20')\n",
    "valiDataset_20 = []\n",
    "trainDataset_20 = []\n",
    "testDataset_20 = []\n",
    "#Loads the following in a list of (3, 16,16) and (3, 20,20)\n",
    "for i in range(len(validation_20)):\n",
    "    f=open(validation_20[i],'rb')\n",
    "    b=pickle.load(f)\n",
    "    #flip the data dimension\n",
    "    b = np.transpose(b, axes=[3, 2, 0, 1])\n",
    "    b = b+128/255\n",
    "    f.close()\n",
    "    valiDataset_20.append(b)\n",
    "    \n",
    "for i in range(len(test_20)):\n",
    "    f=open(test_20[i],'rb')\n",
    "    b=pickle.load(f)\n",
    "    b = np.transpose(b, axes=[3, 2, 0, 1]) \n",
    "    b = b*255+128.5\n",
    "#     b=b.astype(int)\n",
    "    f.close()\n",
    "    testDataset_20.append(b)\n",
    "    \n",
    "for i in range(len(train_20)):\n",
    "    f=open(train_20[i],'rb')\n",
    "    b=pickle.load(f)\n",
    "    b = np.transpose(b, axes=[3, 2, 0, 1]) \n",
    "    b = b/255.\n",
    "    f.close()\n",
    "    trainDataset_20.append(b)"
   ]
  },
  {
   "cell_type": "code",
   "execution_count": 116,
   "metadata": {},
   "outputs": [
    {
     "data": {
      "image/png": "[encoded data removed]",
      "text/plain": [
       "<Figure size 432x288 with 1 Axes>"
      ]
     },
     "metadata": {
      "needs_background": "light"
     },
     "output_type": "display_data"
    }
   ],
   "source": [
    "img_num =6666\n",
    "a = valiDataset_20[0][img_num]\n",
    "a = np.transpose(a, axes = [1,2,0])\n",
    "plt.imshow(a)\n",
    "plt.title(\"sample image\")\n",
    "plt.show()"
   ]
  },
  {
   "cell_type": "code",
   "execution_count": 117,
   "metadata": {},
   "outputs": [
    {
     "name": "stdout",
     "output_type": "stream",
     "text": [
      "(70000, 3, 20, 20)\n"
     ]
    },
    {
     "data": {
      "text/plain": [
       "<matplotlib.image.AxesImage at 0xb40539470>"
      ]
     },
     "execution_count": 117,
     "metadata": {},
     "output_type": "execute_result"
    },
    {
     "data": {
      "image/png": "[encoded data removed]",
      "text/plain": [
       "<Figure size 432x288 with 1 Axes>"
      ]
     },
     "metadata": {
      "needs_background": "light"
     },
     "output_type": "display_data"
    }
   ],
   "source": [
    "trainDataset_new = np.zeros((70000,3,20,20))\n",
    "for k in range (70000):\n",
    "    a = trainDataset_20[0][k]\n",
    "    a = np.transpose(a, axes = [1,2,0])\n",
    "    b0= trainDataset[0][k]\n",
    "    pred_img = predict_img(net, b0)\n",
    "    b = np.transpose(pred_img, axes=[1, 2, 0])\n",
    "    col=a[:,[4,8,12,16],:]\n",
    "    b_r=np.delete(a,[4,8,12,16],axis = 1)\n",
    "    row = b_r[[4,8,12,16],:,:]\n",
    "    C1 = np.insert(b,4,values = row[0],axis = 0)\n",
    "    C2 = np.insert(C1,8,values = row[1],axis = 0)\n",
    "    C3 = np.insert(C2,12,values = row[2],axis = 0)\n",
    "    C3 = np.insert(C3,16,values = row[3],axis = 0)\n",
    "    B1 = np.insert(C3,4,values = col[:,0],axis = 1)\n",
    "    B2 = np.insert(B1,8,values = col[:,1],axis = 1)\n",
    "    B3 = np.insert(B2,12,values = col[:,2],axis = 1)\n",
    "    a = np.insert(B3,16,values = col[:,3],axis = 1)\n",
    "    a=hwc_to_chw(a)\n",
    "    trainDataset_new[k,:,:,:]=a\n",
    "print(trainDataset_new.shape)\n",
    "trainDataset_20_new=[]\n",
    "for k in range(70000):\n",
    "    a=trainDataset_new\n",
    "    trainDataset_20_new.append(a)\n",
    "f4=open('train20_new_3','wb')\n",
    "pickle.dump(trainDataset_20_new,f4)\n",
    "f4.close()\n",
    "img_num=7777\n",
    "img=trainDataset_20_new[0][img_num]\n",
    "img=np.transpose(img, axes = [1,2,0])\n",
    "plt.imshow(img)"
   ]
  },
  {
   "cell_type": "code",
   "execution_count": 118,
   "metadata": {},
   "outputs": [
    {
     "data": {
      "text/plain": [
       "<matplotlib.image.AxesImage at 0xb3f40b438>"
      ]
     },
     "execution_count": 118,
     "metadata": {},
     "output_type": "execute_result"
    },
    {
     "data": {
      "image/png": "[encoded data removed]",
      "text/plain": [
       "<Figure size 432x288 with 1 Axes>"
      ]
     },
     "metadata": {
      "needs_background": "light"
     },
     "output_type": "display_data"
    }
   ],
   "source": [
    "ValidationDataset_new = np.zeros((10000,3,20,20))\n",
    "for k in range (10000):\n",
    "    a = valiDataset_20[0][k]\n",
    "    a = np.transpose(a, axes = [1,2,0])\n",
    "    b0= valiDataset[0][k]\n",
    "    pred_img = predict_img(net, b0)\n",
    "    b = np.transpose(pred_img, axes=[1, 2, 0])\n",
    "    col=a[:,[4,8,12,16],:]\n",
    "    b_r=np.delete(a,[4,8,12,16],axis = 1)\n",
    "    row = b_r[[4,8,12,16],:,:]\n",
    "    C1 = np.insert(b,4,values = row[0],axis = 0)\n",
    "    C2 = np.insert(C1,8,values = row[1],axis = 0)\n",
    "    C3 = np.insert(C2,12,values = row[2],axis = 0)\n",
    "    C3 = np.insert(C3,16,values = row[3],axis = 0)\n",
    "    B1 = np.insert(C3,4,values = col[:,0],axis = 1)\n",
    "    B2 = np.insert(B1,8,values = col[:,1],axis = 1)\n",
    "    B3 = np.insert(B2,12,values = col[:,2],axis = 1)\n",
    "    a = np.insert(B3,16,values = col[:,3],axis = 1)\n",
    "    a=hwc_to_chw(a)\n",
    "    ValidationDataset_new[k,:,:,:]=a\n",
    "ValidationDataset_20_new=[]\n",
    "for k in range(10000):\n",
    "    a=ValidationDataset_new\n",
    "    ValidationDataset_20_new.append(a)\n",
    "f5=open('validation20_new_3','wb')\n",
    "pickle.dump(ValidationDataset_20_new,f5)\n",
    "f5.close()\n",
    "img_num=66\n",
    "img=ValidationDataset_20_new[0][img_num]\n",
    "img=np.transpose(img, axes = [1,2,0])\n",
    "plt.imshow(img)"
   ]
  },
  {
   "cell_type": "code",
   "execution_count": 24,
   "metadata": {},
   "outputs": [],
   "source": []
  },
  {
   "cell_type": "code",
   "execution_count": 25,
   "metadata": {},
   "outputs": [],
   "source": []
  },
  {
   "cell_type": "code",
   "execution_count": null,
   "metadata": {},
   "outputs": [],
   "source": []
  },
  {
   "cell_type": "code",
   "execution_count": null,
   "metadata": {},
   "outputs": [],
   "source": []
  },
  {
   "cell_type": "code",
   "execution_count": null,
   "metadata": {},
   "outputs": [],
   "source": []
  },
  {
   "cell_type": "code",
   "execution_count": null,
   "metadata": {},
   "outputs": [],
   "source": []
  }
 ],
 "metadata": {
  "kernelspec": {
   "display_name": "Python 3",
   "language": "python",
   "name": "python3"
  },
  "language_info": {
   "codemirror_mode": {
    "name": "ipython",
    "version": 3
   },
   "file_extension": ".py",
   "mimetype": "text/x-python",
   "name": "python",
   "nbconvert_exporter": "python",
   "pygments_lexer": "ipython3",
   "version": "3.7.1"
  }
 },
 "nbformat": 4,
 "nbformat_minor": 2
}
